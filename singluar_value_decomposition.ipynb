{
 "cells": [
  {
   "cell_type": "markdown",
   "metadata": {},
   "source": [
    "## Singluar Value Decomposition\n",
    "\n",
    "- reference: https://en.wikipedia.org/wiki/Singular_value_decomposition\n",
    "![image](https://upload.wikimedia.org/wikipedia/commons/thumb/c/c8/Singular_value_decomposition_visualisation.svg/220px-Singular_value_decomposition_visualisation.svg.png)\n",
    "\n",
    "**SVD는 위의 도식과 같이 $A = U{\\Sigma}V^{T}$로 나타낸다.**\n",
    "\n",
    "where $A$ is rectangular matrix $A \\in \\mathbf{R}^{m \\times n}$\n",
    "\n",
    ", $U \\in \\mathbf{R}^{m \\times m}$ 는 orthnormal한 columns을 가지고 있다.\n",
    "\n",
    ", $V \\in \\mathbf{R}^{n \\times n}$ 는 orthnormal한 columns를 가지고 있으며 따라서 $V^{T}$는 orthonormal한 row를 가지게 된다.\n",
    "\n",
    "$\\Sigma \\in \\mathbf{R}^{m \\times n}$ 는 대각행렬(diagonal matrix)로 성분이 점차 감소한다. (앞 부분이 더 큰 숫자를 가진다.)"
   ]
  },
  {
   "cell_type": "markdown",
   "metadata": {},
   "source": [
    "## Intuitive interpretations: Rotation, Scaling\n",
    "\n",
    "![image2](https://upload.wikimedia.org/wikipedia/commons/thumb/b/bb/Singular-Value-Decomposition.svg/220px-Singular-Value-Decomposition.svg.png)\n",
    "\n",
    "- 우측 상단: 기본 vector, 이 vector가 어떻게 움직이는지 살펴보자\n",
    "\n",
    "- 좌측 상단: matrix M에 의한 우측 상단의 vector의 변화 모습을 보여줌.\n",
    "\n",
    "- 우측 하단: 기본 vector에 maxtrix $V^{T}$에 의한 선형변환\n",
    "\n",
    "- 좌측 하단: 기본 vector에 maxtrix $V^{T}\\Sigma$에 의한 선형변환\n",
    "\n",
    "$\\Sigma$는 위의 그림에서와 같이 수평의 방향 혹은 수직의 방향으로 각각의 element의 값만큼 scale하는 효과를 가진다."
   ]
  },
  {
   "cell_type": "markdown",
   "metadata": {},
   "source": [
    "## SVD as sum of outer products\n",
    "<img src=\"https://slideplayer.com/slide/10565414/36/images/8/Singular+Value+Decomposition.jpg\" width=\"700\" height=\"500\" />\n",
    "<img src=\"https://i.stack.imgur.com/qEPYe.png\" width=\"700\" height=\"500\" />\n"
   ]
  },
  {
   "cell_type": "markdown",
   "metadata": {},
   "source": [
    "## Another perspective of SVD\n",
    "\n",
    "\n",
    "$U = [u_1, u_2, \\cdots, u_{n}] \\in \\mathbf{R}^{m \\times n}$, $V =[v_1, v_2, \\cdots, v_{n} \\in \\mathbf{R}^{n \\times n}]$\n",
    "\n",
    "and $\\Sigma = \\begin{bmatrix} \n",
    "\\sigma_1 & & \\\\\n",
    "& \\ddots & \\\\\n",
    "& & \\sigma_{n}\n",
    "\\end{bmatrix} \\in \\mathbf{R}^{n \\times n}$라고 가정한다.\n",
    "\n",
    "$AV = A[v_1, v_2, \\cdots, v_{n}] = [Av_1, Av_2, \\cdots, A_{n}]$ 이며 \n",
    "\n",
    "$U\\Sigma =[u_1, u_2, \\cdots, u_n]\\begin{bmatrix} \n",
    "\\sigma_1 & & \\\\\n",
    "& \\ddots & \\\\\n",
    "& & \\sigma_{n}\n",
    "\\end{bmatrix} = [\\sigma u_1, \\sigma_2 u_2, \\cdots, \\sigma u_{n}]$ 이다.\n",
    "\n",
    "$AV = U \\Sigma$ 이고 $V^{-1} = V^{T}$가 된다. ($V \\in \\mathbf{R} ^{n*n}$dms orthonormal columns를 가지기 때문)\n",
    "\n",
    "그러므로, $AV = U\\Sigma \\iff A = U\\Sigma V^{T} $"
   ]
  },
  {
   "cell_type": "code",
   "execution_count": 2,
   "metadata": {},
   "outputs": [
    {
     "data": {
      "text/plain": [
       "array([[3, 6],\n",
       "       [2, 3],\n",
       "       [0, 0],\n",
       "       [0, 0]])"
      ]
     },
     "execution_count": 2,
     "metadata": {},
     "output_type": "execute_result"
    }
   ],
   "source": [
    "import numpy as np\n",
    "A = np.array([[3,6], [2,3], [0,0], [0,0]]) # 직사각행렬\n",
    "A"
   ]
  },
  {
   "cell_type": "code",
   "execution_count": 4,
   "metadata": {},
   "outputs": [
    {
     "name": "stdout",
     "output_type": "stream",
     "text": [
      "[[-0.8816746  -0.47185793  0.          0.        ]\n",
      " [-0.47185793  0.8816746   0.          0.        ]\n",
      " [ 0.          0.          1.          0.        ]\n",
      " [ 0.          0.          0.          1.        ]]\n",
      "[7.60555128 0.39444872]\n",
      "[[-0.47185793 -0.8816746 ]\n",
      " [ 0.8816746  -0.47185793]]\n"
     ]
    }
   ],
   "source": [
    "u, s, vt = np.linalg.svd(A)\n",
    "print(u)\n",
    "print(s)\n",
    "print(vt)"
   ]
  },
  {
   "cell_type": "code",
   "execution_count": 14,
   "metadata": {},
   "outputs": [
    {
     "data": {
      "text/plain": [
       "0.0"
      ]
     },
     "execution_count": 14,
     "metadata": {},
     "output_type": "execute_result"
    }
   ],
   "source": [
    "# othornormal rows of vt\n",
    "np.dot(vt[0], vt[1])"
   ]
  },
  {
   "cell_type": "code",
   "execution_count": 24,
   "metadata": {},
   "outputs": [
    {
     "name": "stdout",
     "output_type": "stream",
     "text": [
      "-5.551115123125783e-17\n",
      "0.0\n",
      "0.0\n",
      "0.0\n",
      "0.0\n",
      "0.0\n"
     ]
    }
   ],
   "source": [
    "# othonormal colums of U\n",
    "u1 = u[:,0]\n",
    "u2 = u[:,1]\n",
    "u3 = u[:,2]\n",
    "u4 = u[:,3]\n",
    "\n",
    "cols = [u1, u2, u3, u4]\n",
    "for i in range(4):\n",
    "    for j in range(i + 1, 4):\n",
    "        print(np.dot(cols[i], cols[j]))\n",
    "        "
   ]
  },
  {
   "cell_type": "code",
   "execution_count": 9,
   "metadata": {},
   "outputs": [
    {
     "data": {
      "text/plain": [
       "array([[7.60555128, 0.        ],\n",
       "       [0.        , 0.39444872],\n",
       "       [0.        , 0.        ],\n",
       "       [0.        , 0.        ]])"
      ]
     },
     "execution_count": 9,
     "metadata": {},
     "output_type": "execute_result"
    }
   ],
   "source": [
    "s = np.diag(s)\n",
    "s = np.concatenate([s, np.zeros((2,2))], axis = 0)\n",
    "s"
   ]
  },
  {
   "cell_type": "code",
   "execution_count": 11,
   "metadata": {},
   "outputs": [
    {
     "data": {
      "text/plain": [
       "array([[3., 6.],\n",
       "       [2., 3.],\n",
       "       [0., 0.],\n",
       "       [0., 0.]])"
      ]
     },
     "execution_count": 11,
     "metadata": {},
     "output_type": "execute_result"
    }
   ],
   "source": [
    "# restore\n",
    "np.dot(np.dot(u, s), vt)"
   ]
  },
  {
   "cell_type": "code",
   "execution_count": 36,
   "metadata": {},
   "outputs": [
    {
     "name": "stdout",
     "output_type": "stream",
     "text": [
      "([0], [0])\n"
     ]
    },
    {
     "data": {
      "image/png": "[encoded data removed]",
      "text/plain": [
       "<Figure size 432x288 with 1 Axes>"
      ]
     },
     "metadata": {
      "needs_background": "light"
     },
     "output_type": "display_data"
    }
   ],
   "source": [
    "import numpy as np\n",
    "import matplotlib.pyplot as plt\n",
    "%matplotlib inline\n",
    "base = np.array([[0, 1], [1, 0]])\n",
    "origin = [0], [0]\n",
    "print(origin)\n",
    "plt.quiver(*origin, base[:,0], base[:,1], color=['r','b','g'], scale=5)\n",
    "plt.show()"
   ]
  },
  {
   "cell_type": "code",
   "execution_count": 38,
   "metadata": {},
   "outputs": [
    {
     "data": {
      "image/png": "[encoded data removed]",
      "text/plain": [
       "<Figure size 432x288 with 1 Axes>"
      ]
     },
     "metadata": {
      "needs_background": "light"
     },
     "output_type": "display_data"
    }
   ],
   "source": [
    "# transformation by vt: rotation\n",
    "base_vt = np.dot(vt, base)\n",
    "base_vt\n",
    "\n",
    "plt.quiver(*origin, base_vt[:,0], base_vt[:,1], color=['r','b','g'], scale=5)\n",
    "plt.show()"
   ]
  },
  {
   "cell_type": "code",
   "execution_count": 43,
   "metadata": {},
   "outputs": [
    {
     "data": {
      "image/png": "[encoded data removed]",
      "text/plain": [
       "<Figure size 432x288 with 1 Axes>"
      ]
     },
     "metadata": {
      "needs_background": "light"
     },
     "output_type": "display_data"
    }
   ],
   "source": [
    "# transformation by s: scaling\n",
    "base_vt_sigma = np.dot(s, base_vt)\n",
    "plt.quiver(*origin, base_vt_sigma[:,0], base_vt_sigma[:,1], color=['r','b','g'], scale=20)\n",
    "plt.show()"
   ]
  },
  {
   "cell_type": "code",
   "execution_count": 45,
   "metadata": {},
   "outputs": [
    {
     "data": {
      "image/png": "[encoded data removed]",
      "text/plain": [
       "<Figure size 432x288 with 1 Axes>"
      ]
     },
     "metadata": {
      "needs_background": "light"
     },
     "output_type": "display_data"
    }
   ],
   "source": [
    "# transformation by u: rotation\n",
    "base_vt_sigma_u = np.dot(u, base_vt_sigma)\n",
    "plt.quiver(*origin, base_vt_sigma_u[:,0], base_vt_sigma_u[:,1], color=['r','b','g'], scale=20)\n",
    "plt.show()"
   ]
  },
  {
   "cell_type": "code",
   "execution_count": 47,
   "metadata": {},
   "outputs": [
    {
     "data": {
      "image/png": "[encoded data removed]",
      "text/plain": [
       "<Figure size 432x288 with 1 Axes>"
      ]
     },
     "metadata": {
      "needs_background": "light"
     },
     "output_type": "display_data"
    }
   ],
   "source": [
    "# transformation by A: same \n",
    "A_base = np.dot(A, base)\n",
    "plt.quiver(*origin, A_base[:,0], A_base[:,1], color=['r','b','g'], scale=20)\n",
    "plt.show()"
   ]
  }
 ],
 "metadata": {
  "kernelspec": {
   "display_name": "Python 3",
   "language": "python",
   "name": "python3"
  },
  "language_info": {
   "codemirror_mode": {
    "name": "ipython",
    "version": 3
   },
   "file_extension": ".py",
   "mimetype": "text/x-python",
   "name": "python",
   "nbconvert_exporter": "python",
   "pygments_lexer": "ipython3",
   "version": "3.7.1"
  }
 },
 "nbformat": 4,
 "nbformat_minor": 2
}
