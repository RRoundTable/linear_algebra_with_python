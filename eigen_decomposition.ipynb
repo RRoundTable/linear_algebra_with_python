{
 "cells": [
  {
   "attachments": {},
   "cell_type": "markdown",
   "metadata": {},
   "source": [
    "## eigen value /  eigen vector!\n",
    "행렬 A를 선형변환으로 봤을 때, 선형변환 A에 의한 변환 결과가 자기 자신의 상수배가 되는\n",
    "0이 아닌 vector를 eigenvector라고 한다. 이때 상수배는 eigenvalue이다.\n",
    "\n",
    "![notation](https://t1.daumcdn.net/cfile/tistory/237AB44F525CD4BC08)\n",
    "\n",
    "- eigenvalue - eigenvector는 아예 존재하지 않을 수도 있다.\n",
    "- 최대 n개까지 존재할 수 있다.\n",
    "\n"
   ]
  },
  {
   "attachments": {},
   "cell_type": "markdown",
   "metadata": {},
   "source": [
    "## How to get eigen value /  eigen vector!\n",
    "\n",
    "$$\n",
    "Ax = \\lambda x\n",
    "$$\n",
    "\n",
    "$A$ 는 maxtrix, $x$는 eigen vector $\\lambda$는 eigen value를 나타낸다.\n",
    "\n",
    "위의 식을 조금 변형시키면,아래와 같이 전개된다.\n",
    "\n",
    "$$\n",
    "(A - \\lambda {I})x = 0\n",
    "$$\n",
    "\n",
    "이를 해석하면 새로운 matrix$(A - \\lambda {I})$의 선형변환에 의해서 $x$는 zero vector가 되어야한다.\n",
    "(단, x는 zero vector가 아니다.)\n",
    "\n",
    "여기서 기하학적인 의미를 더 고민해보고 싶다면 [Eigenvectors and eigenvalues](https://www.youtube.com/watch?v=PFDu9oVAE-g&list=PLZHQObOWTQDPD3MizzM2xVFitgF8hE_ab&index=14)를 참고하시면 좋을 것 같습니다."
   ]
  },
  {
   "cell_type": "markdown",
   "metadata": {},
   "source": [
    "## Diagonalization\n",
    "![](https://www.mathdoubts.com/imgs/matrix/principal-diagonal.png)\n",
    "대각화는 square matrix $A \\in R^{n \\times n}$ 을 아래와 같은 형식으로 변형하는 것이다.\n",
    "\n",
    "$\n",
    "D = V^{-1}AV  \n",
    "$\n",
    "where $V$ is invertable matrix\n",
    "\n",
    "항상 대각화가 가능한 것은 아니다, invertable $V$가 존재할 때 $D = V^{-1}AV$ 가diagonal matrix가 될 수 있다.\n",
    "\n",
    "대각행렬은 아래와 같은 과정을 거쳐서 구한다.\n",
    "\n",
    "$$\n",
    "D = V^{-1}AV  \n",
    "$$\n",
    "\n",
    "$$\n",
    "VD = AV\n",
    "$$\n",
    "\n",
    "where $V = [v_{1}, v_{2}, ... , v_{n}]$ and $D = \\begin{bmatrix}\n",
    "{\\lambda_1}& \\cdots\\\\\n",
    "\\vdots & \\ddots & \\vdots \\\\\n",
    "\\cdots & \\cdots&{\\lambda_n}\n",
    "\\end{bmatrix}$\n",
    "\n",
    "위의 식을 전개하면 아래와 같다.\n",
    "\n",
    "$$\n",
    "[Av_{1}, Av_{2}, \\cdots Av_{n}] = [\\lambda_1v_{1},\\lambda_2v_{2}, \\cdots, \\lambda_{n}v_{n}] \n",
    "$$\n",
    "\n",
    "$v_1$, $v_1$, $\\cdots$, $v_{n}$ 은 eigen vector 이고 $\\lambda_{1}$, $\\lambda_{1}$, $\\cdots$, $\\lambda_{n}$ 는 eigen value이다.\n",
    "\n",
    "\n",
    "만약 $V$가 invertable하다면, A는 다음과 같이 나타낼 수 있으며, 대각행렬 $D$는 존재한다.\n",
    "\n",
    "참고: $V$가 invertable하다는 것은 V의 column vector끼리 linearly independent하다는 것이다.\n",
    "\n",
    "$$\n",
    "A = VDV^{-1}  \n",
    "$$"
   ]
  },
  {
   "cell_type": "code",
   "execution_count": 1,
   "metadata": {},
   "outputs": [],
   "source": [
    "import numpy as np\n",
    "import numpy.linalg as la\n",
    "from numpy.linalg import eig\n",
    "from numpy.linalg import inv\n",
    "\n",
    "import time"
   ]
  },
  {
   "cell_type": "code",
   "execution_count": 3,
   "metadata": {},
   "outputs": [
    {
     "data": {
      "text/plain": [
       "array([[ 4,  0, -2],\n",
       "       [ 2,  5,  4],\n",
       "       [ 0,  0,  5]])"
      ]
     },
     "execution_count": 3,
     "metadata": {},
     "output_type": "execute_result"
    }
   ],
   "source": [
    "# diagonalization and power of a matrix\n",
    "A = np.array([[4, 0, -2], [2, 5, 4], [0, 0, 5]])\n",
    "A"
   ]
  },
  {
   "cell_type": "code",
   "execution_count": 6,
   "metadata": {},
   "outputs": [
    {
     "name": "stdout",
     "output_type": "stream",
     "text": [
      "[5. 4. 5.]\n",
      "[[ 0.          0.4472136  -0.89442719]\n",
      " [ 1.         -0.89442719  0.        ]\n",
      " [ 0.          0.          0.4472136 ]]\n"
     ]
    }
   ],
   "source": [
    "eig_val, eig_vec = eig(A)\n",
    "print(eig_val)\n",
    "print(eig_vec)"
   ]
  },
  {
   "cell_type": "code",
   "execution_count": 7,
   "metadata": {},
   "outputs": [
    {
     "data": {
      "text/plain": [
       "array([[5., 0., 0.],\n",
       "       [0., 4., 0.],\n",
       "       [0., 0., 5.]])"
      ]
     },
     "execution_count": 7,
     "metadata": {},
     "output_type": "execute_result"
    }
   ],
   "source": [
    "D = np.diag(eig_val)\n",
    "D"
   ]
  },
  {
   "cell_type": "code",
   "execution_count": 8,
   "metadata": {},
   "outputs": [
    {
     "data": {
      "text/plain": [
       "array([[ 0.        ,  0.4472136 , -0.89442719],\n",
       "       [ 1.        , -0.89442719,  0.        ],\n",
       "       [ 0.        ,  0.        ,  0.4472136 ]])"
      ]
     },
     "execution_count": 8,
     "metadata": {},
     "output_type": "execute_result"
    }
   ],
   "source": [
    "V = eig_vec\n",
    "V"
   ]
  },
  {
   "cell_type": "code",
   "execution_count": 9,
   "metadata": {},
   "outputs": [
    {
     "data": {
      "text/plain": [
       "array([[ 4.,  0., -2.],\n",
       "       [ 2.,  5.,  4.],\n",
       "       [ 0.,  0.,  5.]])"
      ]
     },
     "execution_count": 9,
     "metadata": {},
     "output_type": "execute_result"
    }
   ],
   "source": [
    "# A를 대각행렬로 나타내기\n",
    "V.dot(D).dot(la.inv(V))"
   ]
  },
  {
   "cell_type": "code",
   "execution_count": 10,
   "metadata": {},
   "outputs": [
    {
     "data": {
      "text/plain": [
       "array([[ 1024,     0, -4202],\n",
       "       [ 4202,  3125,  8404],\n",
       "       [    0,     0,  3125]])"
      ]
     },
     "execution_count": 10,
     "metadata": {},
     "output_type": "execute_result"
    }
   ],
   "source": [
    "la.matrix_power(A,5)"
   ]
  },
  {
   "cell_type": "code",
   "execution_count": 11,
   "metadata": {},
   "outputs": [
    {
     "data": {
      "text/plain": [
       "array([[3125.,    0.,    0.],\n",
       "       [   0., 1024.,    0.],\n",
       "       [   0.,    0., 3125.]])"
      ]
     },
     "execution_count": 11,
     "metadata": {},
     "output_type": "execute_result"
    }
   ],
   "source": [
    "D_power_5 = np.diag(eig_val**5)\n",
    "D_power_5"
   ]
  },
  {
   "cell_type": "code",
   "execution_count": 12,
   "metadata": {},
   "outputs": [
    {
     "data": {
      "text/plain": [
       "array([[ 1024.,     0., -4202.],\n",
       "       [ 4202.,  3125.,  8404.],\n",
       "       [    0.,     0.,  3125.]])"
      ]
     },
     "execution_count": 12,
     "metadata": {},
     "output_type": "execute_result"
    }
   ],
   "source": [
    "V.dot(D_power_5).dot(la.inv(V))"
   ]
  },
  {
   "cell_type": "code",
   "execution_count": 13,
   "metadata": {},
   "outputs": [
    {
     "name": "stdout",
     "output_type": "stream",
     "text": [
      "[[ 0.17777778  0.08888889  0.17777778  0.26666667  0.28888889]\n",
      " [ 0.0625      0.03125     0.15625     0.28125     0.46875   ]\n",
      " [ 0.12903226  0.16129032  0.35483871  0.19354839  0.16129032]\n",
      " [ 0.19672131  0.29508197  0.19672131  0.32786885 -0.01639344]\n",
      " [ 0.2826087   0.65217391  0.2173913  -0.02173913 -0.13043478]]\n",
      "[0.46569414 0.46569414 0.46569414 0.46569414 0.46569414]\n",
      "0.8846371173858643\n"
     ]
    }
   ],
   "source": [
    "# create a matrix A\n",
    "A = np.array([[4., 4, 2, 3, -2], [0, 1, -2, -2, 2], [6, 12, 11, 2, -4], [9, 20, 10, 10, -6], [15, 28, 14, 5, -3]])\n",
    "\n",
    "A = A + A.T\n",
    "A = A/np.expand_dims(np.sum(A, 1), axis = 1)\n",
    "print (A)\n",
    "\n",
    "# initialize parameters\n",
    "x = np.random.rand(5)\n",
    "n_times = 1000000\n",
    "\n",
    "# perform matrix multiplications\n",
    "y = x\n",
    "start_time = time.time()\n",
    "for i in range(0, n_times):\n",
    "    y = A.dot(y)\n",
    "end_time = time.time()\n",
    "elapse_time = end_time - start_time\n",
    "print (y)\n",
    "print (elapse_time)"
   ]
  },
  {
   "cell_type": "markdown",
   "metadata": {},
   "source": [
    "### 대각행렬을 사용했을 시, power 연산에서 효율적이다"
   ]
  },
  {
   "cell_type": "code",
   "execution_count": 14,
   "metadata": {},
   "outputs": [
    {
     "name": "stdout",
     "output_type": "stream",
     "text": [
      "[0.46569414 0.46569414 0.46569414 0.46569414 0.46569414]\n",
      "0.0\n"
     ]
    }
   ],
   "source": [
    "eig_val, eig_vec = eig(A)\n",
    "D = np.diag(eig_val)\n",
    "V = eig_vec\n",
    "\n",
    "# perform matrix multiplications using eigendecomposition\n",
    "start_time = time.time()\n",
    "y = V.dot((eig_val**n_times)*la.solve(V,x))\n",
    "end_time = time.time()\n",
    "elapse_time = end_time - start_time\n",
    "print (y)\n",
    "print (elapse_time)"
   ]
  },
  {
   "cell_type": "code",
   "execution_count": null,
   "metadata": {},
   "outputs": [],
   "source": []
  }
 ],
 "metadata": {
  "kernelspec": {
   "display_name": "Python 3",
   "language": "python",
   "name": "python3"
  },
  "language_info": {
   "codemirror_mode": {
    "name": "ipython",
    "version": 3
   },
   "file_extension": ".py",
   "mimetype": "text/x-python",
   "name": "python",
   "nbconvert_exporter": "python",
   "pygments_lexer": "ipython3",
   "version": "3.7.1"
  }
 },
 "nbformat": 4,
 "nbformat_minor": 2
}
