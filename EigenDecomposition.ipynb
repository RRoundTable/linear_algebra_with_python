{
 "cells": [
  {
   "cell_type": "markdown",
   "metadata": {},
   "source": [
    "### eigen value /  eigen vector\n",
    "\n",
    "행렬 A를 선형변환으로 봤을 때, 선형변환 A에 의한 변환 결과가 자기 자신의 상수배가 되는\n",
    "0이 아닌 vector를 eigenvector라고 한다. 이때 상수배는 eigenvalue이다.\n",
    "\n",
    "![notation](https://t1.daumcdn.net/cfile/tistory/237AB44F525CD4BC08)\n",
    "\n",
    "- eigenvalue - eigenvector는 아예 존재하지 않을 수도 있다.\n",
    "- 최대 n개까지 존재할 수 있다."
   ]
  }
 ],
 "metadata": {
  "kernelspec": {
   "display_name": "Python 3",
   "language": "python",
   "name": "python3"
  },
  "language_info": {
   "codemirror_mode": {
    "name": "ipython",
    "version": 3
   },
   "file_extension": ".py",
   "mimetype": "text/x-python",
   "name": "python",
   "nbconvert_exporter": "python",
   "pygments_lexer": "ipython3",
   "version": "3.7.1"
  }
 },
 "nbformat": 4,
 "nbformat_minor": 2
}
