{
 "cells": [
  {
   "cell_type": "markdown",
   "metadata": {},
   "source": [
    "# A Geometrical interpolation of least squares\n",
    "\n",
    "<img src=\"https://i.stack.imgur.com/T2mQq.gif\" width=\"400\" height=\"400\" />\n",
    "\n",
    "위의 그림은 least squares의 기하학적인 표현이다. \n",
    "\n",
    "${A}{X} = {b}$ 라는 문제가 주어졌을 때, error $||b - AX||$를 최소화 시키는 점 b^을 찾아야한다.\n",
    "\n",
    "이를 기하학적으로 해석하면. b는 col A의 span에서 포함되지 않는 점이다.\n",
    "이것이 의미하는 바는 error $||b - AX|| = 0 $인 지점은 A의 column space상에 없는 것이다.\n",
    "\n",
    "그렇다면, error를 최소화하는 지점은 어디일 것인가?\n",
    "\n",
    "이는 기하학적으로 해석하면, A의 column space상에서 b라는 지점과 가장 가까운 곳은 어디인지 찾는 문제와 같다.\n",
    "\n",
    "따라서 A의 column space상에서 b와 수직인 점을 찾아야 하며 이는 **least squares**문제이다.\n",
    "\n",
    "아래는 수식의 전개이다.\n",
    "\n",
    "$$\n",
    "{A} ^ {T} {A} \\hat{x} = {A}^{T}{b}\n",
    "$$\n",
    "\n",
    "여기서 ${A}^{T}{A}$를 취하는면서 square matrix $A^{T}A$의 새로운 linear system으로 해석된다.\n",
    "\n",
    "만약 square matrix $A^{T}A$가 invertable하다면, 이 식의 해는 $\\hat{x} = (A^{T}A)^{-1}A^{T}b$ 이다.\n",
    "\n",
    "\n",
    "- reference: https://www.edwith.org/linearalgebra4ai/lecture/24799/"
   ]
  },
  {
   "cell_type": "code",
   "execution_count": 2,
   "metadata": {},
   "outputs": [],
   "source": [
    "import numpy as np"
   ]
  },
  {
   "cell_type": "code",
   "execution_count": 4,
   "metadata": {},
   "outputs": [],
   "source": [
    "A = np.array([[60, 5.5, 1],\n",
    "              [65, 5.0, 0],\n",
    "              [55, 6.0, 1],\n",
    "              [50, 5.0, 1]])\n",
    "\n",
    "b = np.array([66, 74, 78, 72])"
   ]
  },
  {
   "cell_type": "code",
   "execution_count": 8,
   "metadata": {},
   "outputs": [
    {
     "name": "stdout",
     "output_type": "stream",
     "text": [
      "y1: [71.3 72.2 79.9 64.5]\n",
      "y2: [66. 74. 78. 60.]\n",
      "error1: 9.54934552731233\n",
      "error2: 12.0\n"
     ]
    }
   ],
   "source": [
    "# 각 x vector에 따른 prediction 및 error\n",
    "x1 = np.array([-0.12, 16, -9.5])\n",
    "x2 = np.array([-0.4, 20, -20])\n",
    "\n",
    "# prediction\n",
    "y1 = np.dot(A, x1)\n",
    "y2 = np.dot(A, x2)\n",
    "\n",
    "print(\"y1: {}\".format(y1))\n",
    "print(\"y2: {}\".format(y2))\n",
    "\n",
    "# errors\n",
    "error1 = np.sqrt(np.sum(np.square(b - y1)))\n",
    "error2 = np.sqrt(np.sum(np.square(b - y2)))\n",
    "print(\"error1: {}\".format(error1))\n",
    "print(\"error2: {}\".format(error2))"
   ]
  },
  {
   "cell_type": "code",
   "execution_count": 9,
   "metadata": {},
   "outputs": [],
   "source": [
    "import matplotlib.pyplot as plt"
   ]
  },
  {
   "cell_type": "code",
   "execution_count": 11,
   "metadata": {},
   "outputs": [],
   "source": [
    "# least squares y ~= ax+b\n",
    "# input data\n",
    "x = np.array([0, 1, 2, 3])\n",
    "y = np.array([-1, 0.2, 0.9, 2.1])"
   ]
  },
  {
   "cell_type": "code",
   "execution_count": 12,
   "metadata": {},
   "outputs": [
    {
     "data": {
      "text/plain": [
       "array([[0., 1.],\n",
       "       [1., 1.],\n",
       "       [2., 1.],\n",
       "       [3., 1.]])"
      ]
     },
     "execution_count": 12,
     "metadata": {},
     "output_type": "execute_result"
    }
   ],
   "source": [
    "# concatnate a constant term\n",
    "A = np.vstack([x, np.ones(len(x))]).T\n",
    "A"
   ]
  },
  {
   "cell_type": "code",
   "execution_count": 13,
   "metadata": {},
   "outputs": [
    {
     "data": {
      "text/plain": [
       "array([[14.,  6.],\n",
       "       [ 6.,  4.]])"
      ]
     },
     "execution_count": 13,
     "metadata": {},
     "output_type": "execute_result"
    }
   ],
   "source": [
    "# create a matrix A'*A\n",
    "At_A = A.T.dot(A)\n",
    "At_A"
   ]
  },
  {
   "cell_type": "code",
   "execution_count": 14,
   "metadata": {},
   "outputs": [
    {
     "data": {
      "text/plain": [
       "array([8.3, 2.2])"
      ]
     },
     "execution_count": 14,
     "metadata": {},
     "output_type": "execute_result"
    }
   ],
   "source": [
    "# create a vector A'*b\n",
    "At_y = A.T.dot(y)\n",
    "At_y"
   ]
  },
  {
   "cell_type": "code",
   "execution_count": 15,
   "metadata": {},
   "outputs": [
    {
     "data": {
      "text/plain": [
       "array([ 1.  , -0.95])"
      ]
     },
     "execution_count": 15,
     "metadata": {},
     "output_type": "execute_result"
    }
   ],
   "source": [
    "# solve for x\n",
    "from numpy.linalg import solve\n",
    "c = solve(At_A, At_y)\n",
    "c"
   ]
  },
  {
   "cell_type": "code",
   "execution_count": 16,
   "metadata": {},
   "outputs": [
    {
     "data": {
      "text/plain": [
       "array([-0.95,  0.05,  1.05,  2.05])"
      ]
     },
     "execution_count": 16,
     "metadata": {},
     "output_type": "execute_result"
    }
   ],
   "source": [
    "# fitted value\n",
    "y_fitted = A.dot(c)\n",
    "y_fitted"
   ]
  },
  {
   "cell_type": "code",
   "execution_count": 17,
   "metadata": {},
   "outputs": [
    {
     "data": {
      "image/png": "[encoded data removed]",
      "text/plain": [
       "<Figure size 432x288 with 1 Axes>"
      ]
     },
     "metadata": {
      "needs_background": "light"
     },
     "output_type": "display_data"
    }
   ],
   "source": [
    "import matplotlib.pyplot as plt\n",
    "plt.plot(x, y, 'o', label='Original data', markersize=10)\n",
    "plt.plot(x, y_fitted, 'r', label='Fitted line')\n",
    "plt.legend()\n",
    "plt.show()"
   ]
  }
 ],
 "metadata": {
  "kernelspec": {
   "display_name": "Python 3",
   "language": "python",
   "name": "python3"
  },
  "language_info": {
   "codemirror_mode": {
    "name": "ipython",
    "version": 3
   },
   "file_extension": ".py",
   "mimetype": "text/x-python",
   "name": "python",
   "nbconvert_exporter": "python",
   "pygments_lexer": "ipython3",
   "version": "3.7.1"
  }
 },
 "nbformat": 4,
 "nbformat_minor": 2
}
