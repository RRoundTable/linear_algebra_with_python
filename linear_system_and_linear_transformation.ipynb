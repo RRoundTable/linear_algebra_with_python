{
 "cells": [
  {
   "cell_type": "markdown",
   "metadata": {},
   "source": [
    "### Linear System"
   ]
  },
  {
   "cell_type": "markdown",
   "metadata": {},
   "source": [
    "#### Linear Equation\n",
    "\n",
    "- A **linear equation** in the variables 𝑥1, ⋯ , 𝑥𝑛 is an equation that can be written in the form\n",
    "\n",
    "$$ \n",
    "\\mathbf{a}_1 \\times \\mathbf{x}_1 + \\mathbf{a}_2 \\times \\mathbf{x}_2 + \\mathbf{a}_3 \\times \\mathbf{x}_3 + ,,, + \\mathbf{a}_n \\times \\mathbf{x}_n = \\mathbf{b}\n",
    "$$\n",
    "\n",
    "- The above equation can be written as\n",
    "\n",
    "$$ \n",
    "\\mathbf{A}^\\top X = \\mathbf{B}\n",
    "$$\n",
    "\n",
    "$$\n",
    "\\mathbf{A} = \\begin{vmatrix}\n",
    "\\mathbf{a}_1 \\\\\n",
    "\\mathbf{a}_2 \\\\\n",
    "\\mathbf{a}_3 \\\\\n",
    ",,,\\\\\n",
    "\\mathbf{a}_n \\\\\n",
    "\\end{vmatrix}\n",
    "$$\n",
    "\n",
    "$$\n",
    "\\mathbf{X} = \\begin{vmatrix}\n",
    "\\mathbf{x}_1 \\\\\n",
    "\\mathbf{x}_2 \\\\\n",
    "\\mathbf{x}_3 \\\\\n",
    ",,,\\\\\n",
    "\\mathbf{x}_n \\\\\n",
    "\\end{vmatrix}\n",
    "$$\n",
    "\n",
    "$$\n",
    "\\mathbf{B} = \\begin{vmatrix}\n",
    "\\mathbf{b}_1 \\\\\n",
    "\\mathbf{b}_2 \\\\\n",
    "\\mathbf{b}_3 \\\\\n",
    ",,,\\\\\n",
    "\\mathbf{b}_n \\\\\n",
    "\\end{vmatrix}\n",
    "$$"
   ]
  },
  {
   "cell_type": "code",
   "execution_count": 1,
   "metadata": {},
   "outputs": [],
   "source": [
    "# module\n",
    "import numpy as np\n"
   ]
  },
  {
   "cell_type": "markdown",
   "metadata": {},
   "source": [
    "### Invertable\n",
    "\n",
    "Please check this resource.\n",
    "[InverseMatrix](https://www.youtube.com/watch?v=uQhTuRlWMxw&list=PLZHQObOWTQDPD3MizzM2xVFitgF8hE_ab&index=7)"
   ]
  },
  {
   "cell_type": "markdown",
   "metadata": {},
   "source": [
    "### Example: A is invertable\n",
    "$$ \n",
    "60 \\times \\mathbf{x}_1 + 5.5 \\times \\mathbf{x}_2 + 1 \\times \\mathbf{x}_3 = 66\n",
    "$$\n",
    "$$ \n",
    "65 \\times \\mathbf{x}_1 + 5.0 \\times \\mathbf{x}_2 + 0 \\times \\mathbf{x}_3 = 74\n",
    "$$\n",
    "$$ \n",
    "55 \\times \\mathbf{x}_1 + 6.0 \\times \\mathbf{x}_2 + 1 \\times \\mathbf{x}_3 = 78\n",
    "$$\n",
    "\n",
    "- The solution of the problem is\n",
    "$$\n",
    "\\mathbf{X} = \\mathbf{A}^{-1}\\mathbf{B}\n",
    "$$"
   ]
  },
  {
   "cell_type": "code",
   "execution_count": 2,
   "metadata": {},
   "outputs": [
    {
     "name": "stdout",
     "output_type": "stream",
     "text": [
      "X: [ -0.4  20.  -20. ]\n"
     ]
    }
   ],
   "source": [
    "A = np.array([[60.0, 5.5, 1.0],\n",
    "             [65.0, 5.0, 0.0],\n",
    "             [55.0, 6.0, 1.0]])\n",
    "\n",
    "B = np.array([66, 74, 78])\n",
    "\n",
    "# inverse matrix\n",
    "X = np.dot(np.linalg.inv(A), B)\n",
    "\n",
    "print(\"X: {}\".format(X))"
   ]
  }
 ],
 "metadata": {
  "kernelspec": {
   "display_name": "Python 3",
   "language": "python",
   "name": "python3"
  },
  "language_info": {
   "codemirror_mode": {
    "name": "ipython",
    "version": 3
   },
   "file_extension": ".py",
   "mimetype": "text/x-python",
   "name": "python",
   "nbconvert_exporter": "python",
   "pygments_lexer": "ipython3",
   "version": "3.7.1"
  }
 },
 "nbformat": 4,
 "nbformat_minor": 2
}
